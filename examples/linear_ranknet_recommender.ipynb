{
 "cells": [
  {
   "cell_type": "code",
   "execution_count": 1,
   "metadata": {},
   "outputs": [],
   "source": [
    "import imp\n",
    "import sys\n",
    "import numpy as np\n",
    "sys.path = list(set(sys.path + ['/Users/leowan/Documents/Workspace/algorithms/']))"
   ]
  },
  {
   "cell_type": "code",
   "execution_count": 2,
   "metadata": {},
   "outputs": [],
   "source": [
    "import os\n",
    "os.environ[\"CUDA_VISIBLE_DEVICES\"]=\"6\"\n",
    "import tensorflow as tf"
   ]
  },
  {
   "cell_type": "code",
   "execution_count": 3,
   "metadata": {},
   "outputs": [],
   "source": [
    "from sklearn import datasets\n",
    "dataset_iris = datasets.load_iris(return_X_y=True)"
   ]
  },
  {
   "cell_type": "code",
   "execution_count": 4,
   "metadata": {},
   "outputs": [],
   "source": [
    "def generate_sample_dataset_and_feature_dict(dataset_iris):\n",
    "    \"\"\"\n",
    "        Make dataset from iris\n",
    "    \"\"\"\n",
    "    npd = np.zeros(len(dataset_iris[0]), dtype=[\n",
    "        ('user_id', np.int32), ('item_id', np.int32), ('label', np.int32)])\n",
    "    fea_dict = dict()\n",
    "    for idx in range(len(dataset_iris[0])):\n",
    "        if dataset_iris[1][idx] == 0:\n",
    "            npd[idx] = (0, idx, 1)\n",
    "        else:\n",
    "            npd[idx] = (0, idx, -1)\n",
    "        fea_dict[idx] = dataset_iris[0][idx]\n",
    "    return npd, fea_dict\n",
    "\n",
    "data_all, fea_dict = generate_sample_dataset_and_feature_dict(dataset_iris)"
   ]
  },
  {
   "cell_type": "code",
   "execution_count": 5,
   "metadata": {},
   "outputs": [],
   "source": [
    "from sklearn.model_selection import train_test_split\n",
    "data_train, data_test = train_test_split(data_all)"
   ]
  },
  {
   "cell_type": "code",
   "execution_count": 6,
   "metadata": {},
   "outputs": [
    {
     "name": "stdout",
     "output_type": "stream",
     "text": [
      "112 38\n"
     ]
    }
   ],
   "source": [
    "print(len(data_train), len(data_test))"
   ]
  },
  {
   "cell_type": "code",
   "execution_count": 7,
   "metadata": {},
   "outputs": [],
   "source": [
    "import recsys.dataset as dataset\n",
    "dataset = imp.reload(dataset)\n",
    "train_dataset = dataset.Dataset(data_train, total_users=1, total_items=len(fea_dict), implicit_negative=False, name='Train')\n",
    "test_dataset = dataset.Dataset(data_test, total_users=1, total_items=len(fea_dict), implicit_negative=False, name='Test')"
   ]
  },
  {
   "cell_type": "code",
   "execution_count": 8,
   "metadata": {},
   "outputs": [],
   "source": [
    "import recsys.featurizer as featurizer\n",
    "featurizer = imp.reload(featurizer)\n",
    "class Featurizer(featurizer.FeaturizerBase):\n",
    "    \"\"\"\n",
    "        Custom featurizer\n",
    "    \"\"\"\n",
    "    def __init__(self, fea_dict):\n",
    "        self.fea_dict = fea_dict\n",
    "\n",
    "    def feature_dim(self):\n",
    "        \"\"\"\n",
    "            Dim of X\n",
    "        \"\"\"\n",
    "        return 4\n",
    "    \n",
    "    def featurize(self, user_id, item_id):\n",
    "        if user_id != 0:\n",
    "            raise \"error\"\n",
    "        return self.fea_dict[item_id]\n",
    "\n",
    "featurizer_iris = Featurizer(fea_dict)"
   ]
  },
  {
   "cell_type": "code",
   "execution_count": 9,
   "metadata": {},
   "outputs": [],
   "source": [
    "import recsys.samplers.ranknet_sampler as ranknet_sampler\n",
    "ranknet_sampler = imp.reload(ranknet_sampler)\n",
    "train_sampler = ranknet_sampler.create_training_sampler(\n",
    "    dataset=train_dataset, featurizer=featurizer_iris, max_pos_neg_per_user=5, num_process=1, seed=100)\n",
    "test_sampler = ranknet_sampler.create_evaluation_sampler(\n",
    "    dataset=test_dataset, featurizer=featurizer_iris, max_pos_neg_per_user=5, seed=10)"
   ]
  },
  {
   "cell_type": "code",
   "execution_count": null,
   "metadata": {},
   "outputs": [],
   "source": []
  },
  {
   "cell_type": "code",
   "execution_count": null,
   "metadata": {},
   "outputs": [],
   "source": [
    "import recsys.metrics.auc as auc\n",
    "auc = imp.reload(auc)\n",
    "auc_evaluator = auc.AUC()"
   ]
  },
  {
   "cell_type": "code",
   "execution_count": null,
   "metadata": {},
   "outputs": [],
   "source": [
    "import recsys.recommenders.linear_recommender as linear_recommender\n",
    "linear_recommender = imp.reload(linear_recommender)\n",
    "model = linear_recommender.LinearRankNetRec(feature_dim=featurizer_iris.feature_dim(),\n",
    "    init_model_dir=None, save_model_dir='LinearRankNetRec', l2_reg=0.1, train=True, serve=True)"
   ]
  },
  {
   "cell_type": "code",
   "execution_count": null,
   "metadata": {},
   "outputs": [],
   "source": [
    "import recsys.model_trainer as model_trainer\n",
    "model_trainer = imp.reload(model_trainer)\n",
    "trainer = model_trainer.ModelTrainer(model=model)"
   ]
  },
  {
   "cell_type": "code",
   "execution_count": null,
   "metadata": {},
   "outputs": [],
   "source": [
    "import datetime\n",
    "print(datetime.datetime.now())"
   ]
  },
  {
   "cell_type": "code",
   "execution_count": null,
   "metadata": {
    "scrolled": true
   },
   "outputs": [],
   "source": [
    "# train\n",
    "trainer.train(total_iter=50, \n",
    "                    eval_iter=1,\n",
    "                    save_iter=5,\n",
    "                    train_sampler=train_sampler,\n",
    "                    eval_samplers=[test_sampler], \n",
    "                    evaluators=[auc_evaluator])"
   ]
  },
  {
   "cell_type": "code",
   "execution_count": null,
   "metadata": {},
   "outputs": [],
   "source": [
    "import datetime\n",
    "print(datetime.datetime.now())"
   ]
  },
  {
   "cell_type": "code",
   "execution_count": null,
   "metadata": {},
   "outputs": [],
   "source": []
  }
 ],
 "metadata": {
  "kernelspec": {
   "display_name": "Python 3",
   "language": "python",
   "name": "python3"
  },
  "language_info": {
   "codemirror_mode": {
    "name": "ipython",
    "version": 3
   },
   "file_extension": ".py",
   "mimetype": "text/x-python",
   "name": "python",
   "nbconvert_exporter": "python",
   "pygments_lexer": "ipython3",
   "version": "3.7.3"
  }
 },
 "nbformat": 4,
 "nbformat_minor": 2
}
